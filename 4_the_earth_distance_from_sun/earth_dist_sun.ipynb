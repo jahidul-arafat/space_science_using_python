{
 "cells": [
  {
   "cell_type": "markdown",
   "metadata": {},
   "source": [
    "# Calculate Earth's Distance from Sun in terms of Astronomical Unit\n",
    "## How far the Earth is exactly from Sun today?\n",
    "------\n",
    "\n",
    "## Python Packages Required:\n",
    "```bash\n",
    "# From NASA NAIF(The Navigation and Ancillary Information Facility): An Observation Geometry System for Space Science Missions: SPICE \n",
    "spiceypy  \n",
    "\n",
    "# Interactive Shell\n",
    "ipython\n",
    "ipywidgets\n",
    "tqdm\n",
    "\n",
    "# Jupyterlab\n",
    "jupyterlab\n",
    "\n",
    "```\n",
    "---\n",
    "\n",
    "## My Solution Strategies\n",
    "### Step-01: SPICE Library\n",
    "Get the SPICE libarary as prescribed in NASA NAIF and as in https://github.com/jahidul-arafat/SpiceyPy\n",
    "\n",
    "### Step-02: Current Earth Time Calculation (UTC format) and Convert it in Ephimeris Time\n",
    "- Calculate the current datetime at Earth in UTC format and reformat it in \"%Y-%m-%dT00:00:00\" as string\n",
    "- The Astronomical Unit calculation require timedate in Ephemeris Format\n",
    "- Converting the UTC to ET requires two kernels as provided by NASA NAIF\n",
    "    - Converting between UTC and Ephemeris Time ([LSK](https://naif.jpl.nasa.gov/pub/naif/generic_kernels/lsk/naif0012.tls)): naif0012.tls ; This is the kernel for leapseconds. i.e. Would there be 61 seconds in a minute on today?\n",
    "    - Computing positions of spacecraft and natural bodies ([SPK](https://naif.jpl.nasa.gov/pub/naif/generic_kernels/spk/planets/de432s.bsp)): de432s.bsp ; Kernels for the [Planets](https://naif.jpl.nasa.gov/pub/naif/generic_kernels/spk/planets/aa_summaries.txt) i.e. (Earth, Mars, Saturn, Venus, Mercury etc)\n",
    "- Once these 2x Kernels are loaded as available in NASA NAIF JPL, using \"spiceypy.utc2et\" convert the time in Ephemerics Time\n",
    "\n",
    "### Step-03: Calculation of Astronomical Unit (AU) \n",
    "- Compute the 6 Dimentional State Vector of the Earth with respect to Sun for today\n",
    "    - 6 Dimensions are: x,y,z in km and corrosponding velocity in km/s\n",
    "- Calculate the Euclidean Distance between Earth and Sun\n",
    "- Calculate the Earth-Sun distance in Astronomical Unit (AU)\n",
    "\n",
    "---"
   ]
  },
  {
   "cell_type": "markdown",
   "metadata": {},
   "source": [
    "## Simulation"
   ]
  },
  {
   "cell_type": "code",
   "execution_count": 73,
   "metadata": {},
   "outputs": [],
   "source": [
    "# Step-01: Import the SPICE Module\n",
    "import spiceypy"
   ]
  },
  {
   "cell_type": "code",
   "execution_count": 74,
   "metadata": {},
   "outputs": [
    {
     "name": "stdout",
     "output_type": "stream",
     "text": [
      "Today' date (midnight): 2022-05-21T00:00:00\n"
     ]
    }
   ],
   "source": [
    "# Step-02: Current Earth Time Calculation (UTC format) and Convert it in Ephimeris Time\n",
    "# 2.1: Import datetime and get the current time stamp\n",
    "import datetime\n",
    "\n",
    "# get today's date\n",
    "date_today = datetime.datetime.today()\n",
    "\n",
    "# convert the datetime to a string format (\"%Y-%m-%dT00:00:00\") replacing the time with midnight (00:00:00)\n",
    "date_today = date_today.strftime('%Y-%m-%dT00:00:00')\n",
    "print(\"Today' date (midnight): {}\".format(date_today))"
   ]
  },
  {
   "cell_type": "code",
   "execution_count": 75,
   "metadata": {},
   "outputs": [],
   "source": [
    "# 2.2 Load the Spice Kernels for leapseconds i.e. 61s=1hr and for the Planets (Mars, Earth, Saturn, Venus)\n",
    "# Leapseconds kernel: \n",
    "spiceypy.furnsh('../kernels/lsk/naif0012.tls') # For Converting between UTC and Ephemeris Time # Leapseconds\n",
    "spiceypy.furnsh('../kernels/spk/de432s.bsp')   # For Computing positions of spacecraft and natural bodies # Planets"
   ]
  },
  {
   "cell_type": "code",
   "execution_count": 76,
   "metadata": {},
   "outputs": [
    {
     "name": "stdout",
     "output_type": "stream",
     "text": [
      "The Ephemeris Time: 706363269.1851516\n"
     ]
    }
   ],
   "source": [
    "# 2.3 Compute the Ephemeris Time \n",
    "# Time on a scale defined by the orbital period rather than the axial rotation of the earth.\n",
    "\n",
    "# What is Orbital Period:? The orbital period (also revolution period) is the amount of time a given astronomical object takes to complete one orbit around another object.\n",
    "# Orbital Period of Planets\n",
    "# Mercury: 87.90 days\n",
    "# Venus: 224.70 days\n",
    "# Earth: 365.25 days\n",
    "# Mars: 686.90 days\n",
    "# Jupiter: 4332.80 days (12 years)\n",
    "# Saturn: 10755.70 days (29 years)\n",
    "# Uranus: 30687.10 days (84 years)\n",
    "# Neptune: 60190.00 days(165 years)\n",
    "\n",
    "# What is axical rotation of Earth?\n",
    "# The rotational axis of Earth, for example, is the imaginary line that passes through both the North Pole and South Pole, whereas the Earth's orbital axis is the line perpendicular to the imaginary plane through which the Earth moves as it revolves around the Sun; \n",
    "# Ref: https://en.wikipedia.org/wiki/Axial_tilt , https://www.youtube.com/watch?v=tYiL82i635s\n",
    "\n",
    "et_today_midnight = spiceypy.utc2et(date_today)\n",
    "print(\"The Ephemeris Time: {}\".format(et_today_midnight)) # Time on a scale defined by the orbital period rather than the axial rotation of the earth.\n"
   ]
  },
  {
   "cell_type": "code",
   "execution_count": 77,
   "metadata": {},
   "outputs": [
    {
     "name": "stdout",
     "output_type": "stream",
     "text": [
      "State Vector of the Earth w.r.t. the Sun for \"today\" (midnight): [-7.65126539e+07 -1.30630260e+08  7.35432111e+03  2.52093256e+01\n",
      " -1.51752835e+01  1.00222457e-03]\n",
      "Earth to Sun Light Distance (in Seconds): 504.97738476533243\n"
     ]
    }
   ],
   "source": [
    "# Step-3: Calculation of Astronomical Unit (AU)\n",
    "# AU is the unit to measure distance between Earth and Sun or inbetween planets or space bodies\n",
    "\n",
    "# 3.1 Compute the STATE VECTOR of Earth w.r.t. the SUN\n",
    "# Earth Distance With Respect to Sun\n",
    "\n",
    "# Earth Distance (is seconds) from Sun in times of light speed\n",
    "# Sun to Earth Distance: 150,000,000 km\n",
    "# Light Speed: 300,000 km/sec\n",
    "# Earth to Sun Light Distance (sec) = 500s = 8.20 minutes\n",
    "# Means, Photons emitted from the Sun surface need to travel across the vacuum of space to reach our eyes. The short answer is that it takes sunlight an average of 8 minutes and 20 seconds to travel from the Sun to the Earth.\n",
    "# Ref: https://www.youtube.com/watch?v=mlMc9l9QMjo\n",
    "\n",
    "\n",
    "earth_state_wrt_sun, earth_sun_light_time = spiceypy.spkgeo(targ=399, et=et_today_midnight, ref='ECLIPJ2000', obs=10)\n",
    "print('State Vector of the Earth w.r.t. the Sun for \"today\" (midnight): {}'.format(earth_state_wrt_sun))\n",
    "print('Earth to Sun Light Distance (in Seconds): {}'.format(earth_sun_light_time))"
   ]
  },
  {
   "cell_type": "markdown",
   "metadata": {},
   "source": [
    "---\n",
    "##  Euclidean Distance or Euclidean Matrix\n",
    "### How the Earth to Sun State Vector is Calculated?\n",
    "- A 3 Dimensional Plan has been considered having x,y and z-axis\n",
    "- This linked us to the Euclidean Distance between two points in an 3-Dimensional Euclidean space\n",
    "![euclidean_distance](./euclidean_distance.png)\n",
    "-  In mathematics, the Euclidean distance or Euclidean metric is the \"ordinary\" distance between two points that one would measure with a ruler, and is given by the Pythagorean formula. By using this formula as distance, Euclidean space becomes a metric space.\n",
    "- This formula says the distance between two points (x1 1 , y1 1 ) and (x2 2 , y2 2 ) is d = √[(x2 – x1)2 + (y2 – y1)2].\n",
    "\n",
    "## Applications of Euclidean Distance or Euclidean Matrix\n",
    "- The Euclidean Distance tool is used frequently as a stand-alone tool for applications, such as finding the nearest hospital for an emergency helicopter flight. Alternatively, this tool can be used when creating a suitability map, when data representing the distance from a certain object is needed.\n",
    "- Ref: https://hlab.stanford.edu/brian/euclidean_distance_in.html\n",
    "\n",
    "---"
   ]
  },
  {
   "cell_type": "code",
   "execution_count": 78,
   "metadata": {},
   "outputs": [
    {
     "name": "stdout",
     "output_type": "stream",
     "text": [
      "Euclidean Distance Between Earth and Sun is 151388411.41321075 km\n"
     ]
    }
   ],
   "source": [
    "# 3.2 Calculate the Euclidean Distance between Earth and Sun\n",
    "import math\n",
    "earth_sun_distance = math.sqrt(earth_state_wrt_sun[0]**2+earth_state_wrt_sun[1]**2+earth_state_wrt_sun[2]**2)\n",
    "print(\"Euclidean Distance Between Earth and Sun is {} km\".format(earth_sun_distance))\n"
   ]
  },
  {
   "cell_type": "code",
   "execution_count": 79,
   "metadata": {},
   "outputs": [
    {
     "name": "stdout",
     "output_type": "stream",
     "text": [
      "Current Mean Distance between the Earth and the SUN in AU: 1.0119690259772858\n"
     ]
    }
   ],
   "source": [
    "# 3.3 Calculate the Earth-Sun distance in Astronomical Unit (AU)\n",
    "# we can say that one astronomical unit (AU) represents the mean distance between the Earth and our sun\n",
    "# Since distance between Space Planets are best represented through AU unit, we will convert this Euclidean distance from km to AU\n",
    "# 1 km = 6.68458712 × 10-9 Astronomical Units\n",
    "\n",
    "# An AU is approximately 93 million miles (150 million km). It's approximately 8 light-minutes\n",
    "# one astronomical unit (AU) = 92,955,807 miles (149,597,871 km)\n",
    "# It takes 499.0 seconds for light to travel from the Sun to the Earth, a distance called 1 Astronomical Unit.\n",
    "\n",
    "earth_sun_distance_au = spiceypy.convrt(earth_sun_distance,'km','AU')\n",
    "print (\"Current Mean Distance between the Earth and the SUN in AU: {}\".format(earth_sun_distance_au))\n"
   ]
  },
  {
   "cell_type": "markdown",
   "metadata": {},
   "source": [
    "---\n",
    "### Why its around 1 AU? Why not eactly 1 AU?\n",
    "Because, the Earth revolves the Sun in a slightly non-perfect circle (elliptic orbit)\n",
    "---"
   ]
  }
 ],
 "metadata": {
  "kernelspec": {
   "display_name": "Python 3 (ipykernel)",
   "language": "python",
   "name": "python3"
  },
  "language_info": {
   "codemirror_mode": {
    "name": "ipython",
    "version": 3
   },
   "file_extension": ".py",
   "mimetype": "text/x-python",
   "name": "python",
   "nbconvert_exporter": "python",
   "pygments_lexer": "ipython3",
   "version": "3.9.13"
  },
  "orig_nbformat": 4
 },
 "nbformat": 4,
 "nbformat_minor": 2
}
